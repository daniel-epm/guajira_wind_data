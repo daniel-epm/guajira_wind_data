{
 "cells": [
  {
   "cell_type": "markdown",
   "metadata": {},
   "source": [
    "# La Guajira wind energy analysis"
   ]
  },
  {
   "cell_type": "code",
   "execution_count": 20,
   "metadata": {},
   "outputs": [],
   "source": [
    "import pandas as pd\n",
    "import numpy as np\n",
    "import matplotlib.pyplot as plt\n",
    "import plotly.express as px\n",
    "import plotly.graph_objects as go"
   ]
  },
  {
   "cell_type": "code",
   "execution_count": 21,
   "metadata": {},
   "outputs": [],
   "source": [
    "# Load datasets and inspect first rows\n",
    "wind_speed = pd.read_csv(\"./datasets/windGuajira2019.csv\", skiprows= 3)\n",
    "air_density = pd.read_csv(\"./datasets/airDensityGuajira2019.csv\", skiprows= 3)"
   ]
  },
  {
   "cell_type": "code",
   "execution_count": 22,
   "metadata": {},
   "outputs": [
    {
     "name": "stdout",
     "output_type": "stream",
     "text": [
      "               time        local_time  electricity  wind_speed\n",
      "0  2019-01-01 00:00  2018-12-31 19:00        0.952      13.742\n",
      "1  2019-01-01 01:00  2018-12-31 20:00        0.953      13.783\n",
      "2  2019-01-01 02:00  2018-12-31 21:00        0.946      13.515\n",
      "3  2019-01-01 03:00  2018-12-31 22:00        0.940      13.327\n",
      "4  2019-01-01 04:00  2018-12-31 23:00        0.941      13.341 \n",
      "\n",
      "\n",
      "<class 'pandas.core.frame.DataFrame'>\n",
      "RangeIndex: 8760 entries, 0 to 8759\n",
      "Data columns (total 4 columns):\n",
      " #   Column       Non-Null Count  Dtype  \n",
      "---  ------       --------------  -----  \n",
      " 0   time         8760 non-null   object \n",
      " 1   local_time   8760 non-null   object \n",
      " 2   electricity  8760 non-null   float64\n",
      " 3   wind_speed   8760 non-null   float64\n",
      "dtypes: float64(2), object(2)\n",
      "memory usage: 273.9+ KB\n",
      "None\n"
     ]
    }
   ],
   "source": [
    "# Inspect wind speed dataframe\n",
    "print(wind_speed.head(), \"\\n\\n\")\n",
    "print(wind_speed.info())"
   ]
  },
  {
   "cell_type": "code",
   "execution_count": 23,
   "metadata": {},
   "outputs": [
    {
     "name": "stdout",
     "output_type": "stream",
     "text": [
      "               time        local_time   rhoa\n",
      "0  2019-01-01 00:00  2018-12-31 19:00  1.167\n",
      "1  2019-01-01 01:00  2018-12-31 20:00  1.168\n",
      "2  2019-01-01 02:00  2018-12-31 21:00  1.169\n",
      "3  2019-01-01 03:00  2018-12-31 22:00  1.169\n",
      "4  2019-01-01 04:00  2018-12-31 23:00  1.169 \n",
      "\n",
      "\n",
      "<class 'pandas.core.frame.DataFrame'>\n",
      "RangeIndex: 8760 entries, 0 to 8759\n",
      "Data columns (total 3 columns):\n",
      " #   Column      Non-Null Count  Dtype  \n",
      "---  ------      --------------  -----  \n",
      " 0   time        8760 non-null   object \n",
      " 1   local_time  8760 non-null   object \n",
      " 2   rhoa        8760 non-null   float64\n",
      "dtypes: float64(1), object(2)\n",
      "memory usage: 205.4+ KB\n",
      "None\n"
     ]
    }
   ],
   "source": [
    "# Inspect air density dataframe\n",
    "print(air_density.head(), \"\\n\\n\")\n",
    "print(air_density.info())"
   ]
  },
  {
   "cell_type": "markdown",
   "metadata": {},
   "source": [
    "Both dataframes contain the pair of columns `time` and `local_time`, which containing datetime information currently stored as object type and need to be coerced into the appropriate data type. However, as these dataframes contain information for the same geographical area and for the same timespan, we can join them and dispense with repeated columns."
   ]
  },
  {
   "cell_type": "code",
   "execution_count": 24,
   "metadata": {},
   "outputs": [
    {
     "data": {
      "text/html": [
       "<div>\n",
       "<style scoped>\n",
       "    .dataframe tbody tr th:only-of-type {\n",
       "        vertical-align: middle;\n",
       "    }\n",
       "\n",
       "    .dataframe tbody tr th {\n",
       "        vertical-align: top;\n",
       "    }\n",
       "\n",
       "    .dataframe thead th {\n",
       "        text-align: right;\n",
       "    }\n",
       "</style>\n",
       "<table border=\"1\" class=\"dataframe\">\n",
       "  <thead>\n",
       "    <tr style=\"text-align: right;\">\n",
       "      <th></th>\n",
       "      <th>wind_speed</th>\n",
       "    </tr>\n",
       "    <tr>\n",
       "      <th>local_time</th>\n",
       "      <th></th>\n",
       "    </tr>\n",
       "  </thead>\n",
       "  <tbody>\n",
       "    <tr>\n",
       "      <th>2018-12-31 19:00:00</th>\n",
       "      <td>13.742</td>\n",
       "    </tr>\n",
       "    <tr>\n",
       "      <th>2018-12-31 20:00:00</th>\n",
       "      <td>13.783</td>\n",
       "    </tr>\n",
       "    <tr>\n",
       "      <th>2018-12-31 21:00:00</th>\n",
       "      <td>13.515</td>\n",
       "    </tr>\n",
       "    <tr>\n",
       "      <th>2018-12-31 22:00:00</th>\n",
       "      <td>13.327</td>\n",
       "    </tr>\n",
       "    <tr>\n",
       "      <th>2018-12-31 23:00:00</th>\n",
       "      <td>13.341</td>\n",
       "    </tr>\n",
       "  </tbody>\n",
       "</table>\n",
       "</div>"
      ],
      "text/plain": [
       "                     wind_speed\n",
       "local_time                     \n",
       "2018-12-31 19:00:00      13.742\n",
       "2018-12-31 20:00:00      13.783\n",
       "2018-12-31 21:00:00      13.515\n",
       "2018-12-31 22:00:00      13.327\n",
       "2018-12-31 23:00:00      13.341"
      ]
     },
     "execution_count": 24,
     "metadata": {},
     "output_type": "execute_result"
    }
   ],
   "source": [
    "wind_speed_copy = wind_speed.copy()\n",
    "wind_speed_copy.drop([\"time\", \"electricity\"], axis = 1 ,inplace = True)\n",
    "wind_speed_copy[\"local_time\"] = pd.to_datetime(wind_speed_copy[\"local_time\"])\n",
    "wind_speed_copy.set_index(\"local_time\", inplace= True)\n",
    "wind_speed_copy.head()"
   ]
  },
  {
   "cell_type": "code",
   "execution_count": 25,
   "metadata": {},
   "outputs": [
    {
     "data": {
      "text/html": [
       "<div>\n",
       "<style scoped>\n",
       "    .dataframe tbody tr th:only-of-type {\n",
       "        vertical-align: middle;\n",
       "    }\n",
       "\n",
       "    .dataframe tbody tr th {\n",
       "        vertical-align: top;\n",
       "    }\n",
       "\n",
       "    .dataframe thead th {\n",
       "        text-align: right;\n",
       "    }\n",
       "</style>\n",
       "<table border=\"1\" class=\"dataframe\">\n",
       "  <thead>\n",
       "    <tr style=\"text-align: right;\">\n",
       "      <th></th>\n",
       "      <th>air_density</th>\n",
       "    </tr>\n",
       "    <tr>\n",
       "      <th>local_time</th>\n",
       "      <th></th>\n",
       "    </tr>\n",
       "  </thead>\n",
       "  <tbody>\n",
       "    <tr>\n",
       "      <th>2018-12-31 19:00:00</th>\n",
       "      <td>1.167</td>\n",
       "    </tr>\n",
       "    <tr>\n",
       "      <th>2018-12-31 20:00:00</th>\n",
       "      <td>1.168</td>\n",
       "    </tr>\n",
       "    <tr>\n",
       "      <th>2018-12-31 21:00:00</th>\n",
       "      <td>1.169</td>\n",
       "    </tr>\n",
       "    <tr>\n",
       "      <th>2018-12-31 22:00:00</th>\n",
       "      <td>1.169</td>\n",
       "    </tr>\n",
       "    <tr>\n",
       "      <th>2018-12-31 23:00:00</th>\n",
       "      <td>1.169</td>\n",
       "    </tr>\n",
       "  </tbody>\n",
       "</table>\n",
       "</div>"
      ],
      "text/plain": [
       "                     air_density\n",
       "local_time                      \n",
       "2018-12-31 19:00:00        1.167\n",
       "2018-12-31 20:00:00        1.168\n",
       "2018-12-31 21:00:00        1.169\n",
       "2018-12-31 22:00:00        1.169\n",
       "2018-12-31 23:00:00        1.169"
      ]
     },
     "execution_count": 25,
     "metadata": {},
     "output_type": "execute_result"
    }
   ],
   "source": [
    "air_density_copy = air_density.copy()\n",
    "air_density_copy.drop(\"time\", axis= 1, inplace= True)\n",
    "air_density_copy[\"local_time\"] = pd.to_datetime(air_density_copy[\"local_time\"])\n",
    "air_density_copy.set_index(\"local_time\", inplace= True)\n",
    "air_density_copy.rename(columns = {\"rhoa\": \"air_density\"}, inplace = True)\n",
    "air_density_copy.head()"
   ]
  },
  {
   "cell_type": "code",
   "execution_count": 26,
   "metadata": {},
   "outputs": [
    {
     "name": "stdout",
     "output_type": "stream",
     "text": [
      "<class 'pandas.core.frame.DataFrame'>\n",
      "DatetimeIndex: 8760 entries, 2018-12-31 19:00:00 to 2019-12-31 18:00:00\n",
      "Data columns (total 1 columns):\n",
      " #   Column      Non-Null Count  Dtype  \n",
      "---  ------      --------------  -----  \n",
      " 0   wind_speed  8760 non-null   float64\n",
      "dtypes: float64(1)\n",
      "memory usage: 136.9 KB\n",
      "None \n",
      "\n",
      "\n",
      "<class 'pandas.core.frame.DataFrame'>\n",
      "DatetimeIndex: 8760 entries, 2018-12-31 19:00:00 to 2019-12-31 18:00:00\n",
      "Data columns (total 1 columns):\n",
      " #   Column       Non-Null Count  Dtype  \n",
      "---  ------       --------------  -----  \n",
      " 0   air_density  8760 non-null   float64\n",
      "dtypes: float64(1)\n",
      "memory usage: 136.9 KB\n",
      "None\n"
     ]
    }
   ],
   "source": [
    "# Inspect both new dataframes\n",
    "print(wind_speed_copy.info(), \"\\n\\n\")\n",
    "print(air_density_copy.info())"
   ]
  },
  {
   "cell_type": "code",
   "execution_count": 27,
   "metadata": {},
   "outputs": [
    {
     "name": "stdout",
     "output_type": "stream",
     "text": [
      "Null values in wind speed dataframe:\n",
      " wind_speed    0\n",
      "dtype: int64 \n",
      "\n",
      "\n",
      "Null values in air density dataframe:\n",
      " air_density    0\n",
      "dtype: int64\n"
     ]
    }
   ],
   "source": [
    "# Explicitly check null values in both dataframes\n",
    "print(\"Null values in wind speed dataframe:\\n\",wind_speed_copy.isna().sum(), \"\\n\\n\")\n",
    "print(\"Null values in air density dataframe:\\n\",air_density_copy.isna().sum())\n"
   ]
  },
  {
   "cell_type": "code",
   "execution_count": 28,
   "metadata": {},
   "outputs": [
    {
     "data": {
      "text/html": [
       "<div>\n",
       "<style scoped>\n",
       "    .dataframe tbody tr th:only-of-type {\n",
       "        vertical-align: middle;\n",
       "    }\n",
       "\n",
       "    .dataframe tbody tr th {\n",
       "        vertical-align: top;\n",
       "    }\n",
       "\n",
       "    .dataframe thead th {\n",
       "        text-align: right;\n",
       "    }\n",
       "</style>\n",
       "<table border=\"1\" class=\"dataframe\">\n",
       "  <thead>\n",
       "    <tr style=\"text-align: right;\">\n",
       "      <th></th>\n",
       "      <th>wind_speed</th>\n",
       "      <th>air_density</th>\n",
       "    </tr>\n",
       "    <tr>\n",
       "      <th>local_time</th>\n",
       "      <th></th>\n",
       "      <th></th>\n",
       "    </tr>\n",
       "  </thead>\n",
       "  <tbody>\n",
       "    <tr>\n",
       "      <th>2018-12-31 19:00:00</th>\n",
       "      <td>13.742</td>\n",
       "      <td>1.167</td>\n",
       "    </tr>\n",
       "    <tr>\n",
       "      <th>2018-12-31 20:00:00</th>\n",
       "      <td>13.783</td>\n",
       "      <td>1.168</td>\n",
       "    </tr>\n",
       "    <tr>\n",
       "      <th>2018-12-31 21:00:00</th>\n",
       "      <td>13.515</td>\n",
       "      <td>1.169</td>\n",
       "    </tr>\n",
       "    <tr>\n",
       "      <th>2018-12-31 22:00:00</th>\n",
       "      <td>13.327</td>\n",
       "      <td>1.169</td>\n",
       "    </tr>\n",
       "    <tr>\n",
       "      <th>2018-12-31 23:00:00</th>\n",
       "      <td>13.341</td>\n",
       "      <td>1.169</td>\n",
       "    </tr>\n",
       "  </tbody>\n",
       "</table>\n",
       "</div>"
      ],
      "text/plain": [
       "                     wind_speed  air_density\n",
       "local_time                                  \n",
       "2018-12-31 19:00:00      13.742        1.167\n",
       "2018-12-31 20:00:00      13.783        1.168\n",
       "2018-12-31 21:00:00      13.515        1.169\n",
       "2018-12-31 22:00:00      13.327        1.169\n",
       "2018-12-31 23:00:00      13.341        1.169"
      ]
     },
     "execution_count": 28,
     "metadata": {},
     "output_type": "execute_result"
    }
   ],
   "source": [
    "# Join dataframes\n",
    "wind_df = wind_speed_copy.join(air_density_copy)\n",
    "wind_df.head()"
   ]
  },
  {
   "cell_type": "code",
   "execution_count": 69,
   "metadata": {},
   "outputs": [
    {
     "name": "stdout",
     "output_type": "stream",
     "text": [
      "        wind_speed  air_density\n",
      "count  8760.000000  8760.000000\n",
      "mean     10.019084     1.156697\n",
      "std       2.702837     0.008449\n",
      "min       0.203000     1.131000\n",
      "25%       8.253750     1.151000\n",
      "50%      10.360500     1.156000\n",
      "75%      12.050250     1.162000\n",
      "max      16.400000     1.178000 \n",
      "\n",
      "\n",
      "wind_speed     7.305329\n",
      "air_density    0.000071\n",
      "dtype: float64\n"
     ]
    }
   ],
   "source": [
    "# Descriptive statistics from the new dataframe\n",
    "print(wind_df.describe(), \"\\n\\n\")\n",
    "print(wind_df.var())"
   ]
  },
  {
   "cell_type": "markdown",
   "metadata": {},
   "source": [
    "..."
   ]
  },
  {
   "cell_type": "code",
   "execution_count": 84,
   "metadata": {},
   "outputs": [
    {
     "data": {
      "image/png": "[encoded data removed]",
      "text/plain": [
       "<Figure size 576x432 with 2 Axes>"
      ]
     },
     "metadata": {
      "needs_background": "light"
     },
     "output_type": "display_data"
    }
   ],
   "source": [
    "fig, ax = plt.subplots(1,2, figsize = (8, 6))\n",
    "ax[0].boxplot(wind_df[\"wind_speed\"])\n",
    "ax[0].axhline(y = wind_df[\"wind_speed\"].mean(), linewidth = 0.7, color = \"r\", linestyle = \"dashed\")\n",
    "ax[0].set_ylabel(\"Wind Speed (m/s)\")\n",
    "ax[0].grid(linewidth = 0.6)\n",
    "ax[1].boxplot(wind_df[\"air_density\"])\n",
    "ax[1].axhline(y = wind_df[\"air_density\"].mean(), linewidth = 0.7, color = \"r\", linestyle = \"dashed\")\n",
    "ax[1].set_ylabel(\"Air density (kg/m3)\")\n",
    "ax[1].grid(linewidth = 0.6)\n",
    "plt.tight_layout()\n",
    "plt.show()"
   ]
  },
  {
   "cell_type": "markdown",
   "metadata": {},
   "source": [
    "..."
   ]
  },
  {
   "cell_type": "markdown",
   "metadata": {},
   "source": [
    "The power generated by wind turbines can be calculated with the formula:  \n",
    "\n",
    "$$ \n",
    "P = \\frac{1}{2} \\times Air \\: Density \\times Rotor Swept Area \\times Wind \\: Speed^3 \\times Efficiency\n",
    "$$"
   ]
  },
  {
   "cell_type": "markdown",
   "metadata": {},
   "source": [
    "Given an efficiency coefficient $ec = 0.4$, a rotor swept diameter $ \\varnothing = 60m$, and the mean values from the `wind_df` we can calculate the electric power generated per wind turbine. \n",
    "To begin with, let's work out the rotor swept area from the known diameter value."
   ]
  },
  {
   "cell_type": "code",
   "execution_count": 67,
   "metadata": {},
   "outputs": [
    {
     "name": "stdout",
     "output_type": "stream",
     "text": [
      "Rotor Swept Area = 2827.4333882308138 squared meters\n"
     ]
    }
   ],
   "source": [
    "d = 60 # rotor swept diameter value\n",
    "\n",
    "rs_area = np.pi * (d/2)**2\n",
    "\n",
    "print(f\"Rotor Swept Area = {rs_area} squared meters\")"
   ]
  },
  {
   "cell_type": "markdown",
   "metadata": {},
   "source": [
    "..."
   ]
  },
  {
   "cell_type": "code",
   "execution_count": 99,
   "metadata": {},
   "outputs": [
    {
     "name": "stdout",
     "output_type": "stream",
     "text": [
      "Turbine estimated power generation capacity: 0.66 MW\n"
     ]
    }
   ],
   "source": [
    "air_density_mean = wind_df[\"air_density\"].mean()\n",
    "wind_speed_mean = wind_df[\"wind_speed\"].mean()\n",
    "ec = 0.4  # Efficiency coefficient\n",
    "\n",
    "power_gen = 0.5 * air_density_mean * rs_area * wind_speed_mean**3 * 0.4\n",
    "print(f\"Turbine estimated power generation capacity: {round(power_gen/1000000, 2)} MW\")"
   ]
  },
  {
   "cell_type": "code",
   "execution_count": null,
   "metadata": {},
   "outputs": [],
   "source": []
  }
 ],
 "metadata": {
  "kernelspec": {
   "display_name": "DataScience",
   "language": "python",
   "name": "python3"
  },
  "language_info": {
   "codemirror_mode": {
    "name": "ipython",
    "version": 3
   },
   "file_extension": ".py",
   "mimetype": "text/x-python",
   "name": "python",
   "nbconvert_exporter": "python",
   "pygments_lexer": "ipython3",
   "version": "3.8.11"
  }
 },
 "nbformat": 4,
 "nbformat_minor": 2
}
