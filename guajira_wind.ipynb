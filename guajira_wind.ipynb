{
 "cells": [
  {
   "cell_type": "code",
   "execution_count": 33,
   "metadata": {},
   "outputs": [],
   "source": [
    "import pandas as pd\n",
    "import numpy as np"
   ]
  },
  {
   "cell_type": "code",
   "execution_count": 34,
   "metadata": {},
   "outputs": [
    {
     "data": {
      "text/html": [
       "<div>\n",
       "<style scoped>\n",
       "    .dataframe tbody tr th:only-of-type {\n",
       "        vertical-align: middle;\n",
       "    }\n",
       "\n",
       "    .dataframe tbody tr th {\n",
       "        vertical-align: top;\n",
       "    }\n",
       "\n",
       "    .dataframe thead th {\n",
       "        text-align: right;\n",
       "    }\n",
       "</style>\n",
       "<table border=\"1\" class=\"dataframe\">\n",
       "  <thead>\n",
       "    <tr style=\"text-align: right;\">\n",
       "      <th></th>\n",
       "      <th>time</th>\n",
       "      <th>local_time</th>\n",
       "      <th>electricity</th>\n",
       "      <th>wind_speed</th>\n",
       "    </tr>\n",
       "  </thead>\n",
       "  <tbody>\n",
       "    <tr>\n",
       "      <th>0</th>\n",
       "      <td>2019-01-01 00:00</td>\n",
       "      <td>2018-12-31 19:00</td>\n",
       "      <td>0.952</td>\n",
       "      <td>13.742</td>\n",
       "    </tr>\n",
       "    <tr>\n",
       "      <th>1</th>\n",
       "      <td>2019-01-01 01:00</td>\n",
       "      <td>2018-12-31 20:00</td>\n",
       "      <td>0.953</td>\n",
       "      <td>13.783</td>\n",
       "    </tr>\n",
       "    <tr>\n",
       "      <th>2</th>\n",
       "      <td>2019-01-01 02:00</td>\n",
       "      <td>2018-12-31 21:00</td>\n",
       "      <td>0.946</td>\n",
       "      <td>13.515</td>\n",
       "    </tr>\n",
       "    <tr>\n",
       "      <th>3</th>\n",
       "      <td>2019-01-01 03:00</td>\n",
       "      <td>2018-12-31 22:00</td>\n",
       "      <td>0.940</td>\n",
       "      <td>13.327</td>\n",
       "    </tr>\n",
       "    <tr>\n",
       "      <th>4</th>\n",
       "      <td>2019-01-01 04:00</td>\n",
       "      <td>2018-12-31 23:00</td>\n",
       "      <td>0.941</td>\n",
       "      <td>13.341</td>\n",
       "    </tr>\n",
       "  </tbody>\n",
       "</table>\n",
       "</div>"
      ],
      "text/plain": [
       "               time        local_time  electricity  wind_speed\n",
       "0  2019-01-01 00:00  2018-12-31 19:00        0.952      13.742\n",
       "1  2019-01-01 01:00  2018-12-31 20:00        0.953      13.783\n",
       "2  2019-01-01 02:00  2018-12-31 21:00        0.946      13.515\n",
       "3  2019-01-01 03:00  2018-12-31 22:00        0.940      13.327\n",
       "4  2019-01-01 04:00  2018-12-31 23:00        0.941      13.341"
      ]
     },
     "execution_count": 34,
     "metadata": {},
     "output_type": "execute_result"
    }
   ],
   "source": [
    "wind_speed = pd.read_csv(\"./datasets/windGuajira2019.csv\", skiprows= 3)\n",
    "wind_speed.head()"
   ]
  },
  {
   "cell_type": "markdown",
   "metadata": {},
   "source": [
    "From these first rows of data from the `wind_speed` dataset, we can see that it contains a sequence of timestamps, with hourly frequency in two columns, `time` and `local_time`. These two columns could be set as the dataframe's index, rather than a numeric sequence, so as to turn it a time series.  \n",
    "Let's first check the structure of the dataframe, data types of each column, and missing values before doing any transformation:"
   ]
  },
  {
   "cell_type": "code",
   "execution_count": 35,
   "metadata": {},
   "outputs": [
    {
     "name": "stdout",
     "output_type": "stream",
     "text": [
      "<class 'pandas.core.frame.DataFrame'>\n",
      "RangeIndex: 8760 entries, 0 to 8759\n",
      "Data columns (total 4 columns):\n",
      " #   Column       Non-Null Count  Dtype  \n",
      "---  ------       --------------  -----  \n",
      " 0   time         8760 non-null   object \n",
      " 1   local_time   8760 non-null   object \n",
      " 2   electricity  8760 non-null   float64\n",
      " 3   wind_speed   8760 non-null   float64\n",
      "dtypes: float64(2), object(2)\n",
      "memory usage: 273.9+ KB\n"
     ]
    }
   ],
   "source": [
    "wind_speed.info()"
   ]
  },
  {
   "cell_type": "code",
   "execution_count": 36,
   "metadata": {},
   "outputs": [
    {
     "data": {
      "text/plain": [
       "time           0\n",
       "local_time     0\n",
       "electricity    0\n",
       "wind_speed     0\n",
       "dtype: int64"
      ]
     },
     "execution_count": 36,
     "metadata": {},
     "output_type": "execute_result"
    }
   ],
   "source": [
    "wind_speed.isna().sum()"
   ]
  },
  {
   "cell_type": "markdown",
   "metadata": {},
   "source": [
    "Note that the abovementioned `time` and `local_time` columns are of *object* type when they should be Timestamp objects. Hence, they need to be converted to such data type."
   ]
  },
  {
   "cell_type": "code",
   "execution_count": 37,
   "metadata": {},
   "outputs": [
    {
     "name": "stdout",
     "output_type": "stream",
     "text": [
      "<class 'pandas.core.frame.DataFrame'>\n",
      "RangeIndex: 8760 entries, 0 to 8759\n",
      "Data columns (total 4 columns):\n",
      " #   Column       Non-Null Count  Dtype         \n",
      "---  ------       --------------  -----         \n",
      " 0   time         8760 non-null   datetime64[ns]\n",
      " 1   local_time   8760 non-null   datetime64[ns]\n",
      " 2   electricity  8760 non-null   float64       \n",
      " 3   wind_speed   8760 non-null   float64       \n",
      "dtypes: datetime64[ns](2), float64(2)\n",
      "memory usage: 273.9 KB\n"
     ]
    }
   ],
   "source": [
    "wind_speed['time'] = pd.to_datetime(wind_speed['time'])\n",
    "wind_speed['local_time'] = pd.to_datetime(wind_speed['local_time'])\n",
    "\n",
    "wind_speed.info()"
   ]
  },
  {
   "cell_type": "code",
   "execution_count": 38,
   "metadata": {},
   "outputs": [
    {
     "data": {
      "text/html": [
       "<div>\n",
       "<style scoped>\n",
       "    .dataframe tbody tr th:only-of-type {\n",
       "        vertical-align: middle;\n",
       "    }\n",
       "\n",
       "    .dataframe tbody tr th {\n",
       "        vertical-align: top;\n",
       "    }\n",
       "\n",
       "    .dataframe thead th {\n",
       "        text-align: right;\n",
       "    }\n",
       "</style>\n",
       "<table border=\"1\" class=\"dataframe\">\n",
       "  <thead>\n",
       "    <tr style=\"text-align: right;\">\n",
       "      <th></th>\n",
       "      <th>time</th>\n",
       "      <th>local_time</th>\n",
       "      <th>electricity</th>\n",
       "      <th>wind_speed</th>\n",
       "    </tr>\n",
       "  </thead>\n",
       "  <tbody>\n",
       "    <tr>\n",
       "      <th>0</th>\n",
       "      <td>2019-01-01 00:00:00</td>\n",
       "      <td>2018-12-31 19:00:00</td>\n",
       "      <td>0.952</td>\n",
       "      <td>13.742</td>\n",
       "    </tr>\n",
       "    <tr>\n",
       "      <th>1</th>\n",
       "      <td>2019-01-01 01:00:00</td>\n",
       "      <td>2018-12-31 20:00:00</td>\n",
       "      <td>0.953</td>\n",
       "      <td>13.783</td>\n",
       "    </tr>\n",
       "    <tr>\n",
       "      <th>2</th>\n",
       "      <td>2019-01-01 02:00:00</td>\n",
       "      <td>2018-12-31 21:00:00</td>\n",
       "      <td>0.946</td>\n",
       "      <td>13.515</td>\n",
       "    </tr>\n",
       "    <tr>\n",
       "      <th>3</th>\n",
       "      <td>2019-01-01 03:00:00</td>\n",
       "      <td>2018-12-31 22:00:00</td>\n",
       "      <td>0.940</td>\n",
       "      <td>13.327</td>\n",
       "    </tr>\n",
       "    <tr>\n",
       "      <th>4</th>\n",
       "      <td>2019-01-01 04:00:00</td>\n",
       "      <td>2018-12-31 23:00:00</td>\n",
       "      <td>0.941</td>\n",
       "      <td>13.341</td>\n",
       "    </tr>\n",
       "  </tbody>\n",
       "</table>\n",
       "</div>"
      ],
      "text/plain": [
       "                 time          local_time  electricity  wind_speed\n",
       "0 2019-01-01 00:00:00 2018-12-31 19:00:00        0.952      13.742\n",
       "1 2019-01-01 01:00:00 2018-12-31 20:00:00        0.953      13.783\n",
       "2 2019-01-01 02:00:00 2018-12-31 21:00:00        0.946      13.515\n",
       "3 2019-01-01 03:00:00 2018-12-31 22:00:00        0.940      13.327\n",
       "4 2019-01-01 04:00:00 2018-12-31 23:00:00        0.941      13.341"
      ]
     },
     "execution_count": 38,
     "metadata": {},
     "output_type": "execute_result"
    }
   ],
   "source": [
    "wind_speed.head()"
   ]
  },
  {
   "cell_type": "code",
   "execution_count": null,
   "metadata": {},
   "outputs": [],
   "source": []
  }
 ],
 "metadata": {
  "kernelspec": {
   "display_name": "DataScience",
   "language": "python",
   "name": "python3"
  },
  "language_info": {
   "codemirror_mode": {
    "name": "ipython",
    "version": 3
   },
   "file_extension": ".py",
   "mimetype": "text/x-python",
   "name": "python",
   "nbconvert_exporter": "python",
   "pygments_lexer": "ipython3",
   "version": "3.8.11"
  }
 },
 "nbformat": 4,
 "nbformat_minor": 2
}
