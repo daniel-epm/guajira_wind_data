{
 "cells": [
  {
   "cell_type": "markdown",
   "metadata": {},
   "source": [
    "# La Guajira wind energy analysis"
   ]
  },
  {
   "cell_type": "code",
   "execution_count": 52,
   "metadata": {},
   "outputs": [],
   "source": [
    "import pandas as pd\n",
    "import numpy as np\n",
    "import matplotlib.pyplot as plt\n",
    "import seaborn as sns\n",
    "import plotly.express as px\n",
    "import plotly.graph_objects as go"
   ]
  },
  {
   "cell_type": "code",
   "execution_count": 2,
   "metadata": {},
   "outputs": [],
   "source": [
    "# Load datasets and inspect first rows\n",
    "wind_speed = pd.read_csv(\"./datasets/windGuajira2019.csv\", skiprows= 3)\n",
    "air_density = pd.read_csv(\"./datasets/airDensityGuajira2019.csv\", skiprows= 3)"
   ]
  },
  {
   "cell_type": "code",
   "execution_count": 22,
   "metadata": {},
   "outputs": [
    {
     "name": "stdout",
     "output_type": "stream",
     "text": [
      "               time        local_time  electricity  wind_speed\n",
      "0  2019-01-01 00:00  2018-12-31 19:00        0.952      13.742\n",
      "1  2019-01-01 01:00  2018-12-31 20:00        0.953      13.783\n",
      "2  2019-01-01 02:00  2018-12-31 21:00        0.946      13.515\n",
      "3  2019-01-01 03:00  2018-12-31 22:00        0.940      13.327\n",
      "4  2019-01-01 04:00  2018-12-31 23:00        0.941      13.341 \n",
      "\n",
      "\n",
      "<class 'pandas.core.frame.DataFrame'>\n",
      "RangeIndex: 8760 entries, 0 to 8759\n",
      "Data columns (total 4 columns):\n",
      " #   Column       Non-Null Count  Dtype  \n",
      "---  ------       --------------  -----  \n",
      " 0   time         8760 non-null   object \n",
      " 1   local_time   8760 non-null   object \n",
      " 2   electricity  8760 non-null   float64\n",
      " 3   wind_speed   8760 non-null   float64\n",
      "dtypes: float64(2), object(2)\n",
      "memory usage: 273.9+ KB\n",
      "None\n"
     ]
    }
   ],
   "source": [
    "# Inspect wind speed dataframe\n",
    "print(wind_speed.head(), \"\\n\\n\")\n",
    "print(wind_speed.info())"
   ]
  },
  {
   "cell_type": "code",
   "execution_count": 23,
   "metadata": {},
   "outputs": [
    {
     "name": "stdout",
     "output_type": "stream",
     "text": [
      "               time        local_time   rhoa\n",
      "0  2019-01-01 00:00  2018-12-31 19:00  1.167\n",
      "1  2019-01-01 01:00  2018-12-31 20:00  1.168\n",
      "2  2019-01-01 02:00  2018-12-31 21:00  1.169\n",
      "3  2019-01-01 03:00  2018-12-31 22:00  1.169\n",
      "4  2019-01-01 04:00  2018-12-31 23:00  1.169 \n",
      "\n",
      "\n",
      "<class 'pandas.core.frame.DataFrame'>\n",
      "RangeIndex: 8760 entries, 0 to 8759\n",
      "Data columns (total 3 columns):\n",
      " #   Column      Non-Null Count  Dtype  \n",
      "---  ------      --------------  -----  \n",
      " 0   time        8760 non-null   object \n",
      " 1   local_time  8760 non-null   object \n",
      " 2   rhoa        8760 non-null   float64\n",
      "dtypes: float64(1), object(2)\n",
      "memory usage: 205.4+ KB\n",
      "None\n"
     ]
    }
   ],
   "source": [
    "# Inspect air density dataframe\n",
    "print(air_density.head(), \"\\n\\n\")\n",
    "print(air_density.info())"
   ]
  },
  {
   "cell_type": "markdown",
   "metadata": {},
   "source": [
    "Both dataframes contain the pair of columns `time` and `local_time`, which containing datetime information currently stored as object type, need to be coerced into the appropriate data type. However, as these dataframes contain information for the same geographical area and for the same timespan, we can join them and dispense with repeated columns."
   ]
  },
  {
   "cell_type": "code",
   "execution_count": 8,
   "metadata": {},
   "outputs": [
    {
     "data": {
      "text/html": [
       "<div>\n",
       "<style scoped>\n",
       "    .dataframe tbody tr th:only-of-type {\n",
       "        vertical-align: middle;\n",
       "    }\n",
       "\n",
       "    .dataframe tbody tr th {\n",
       "        vertical-align: top;\n",
       "    }\n",
       "\n",
       "    .dataframe thead th {\n",
       "        text-align: right;\n",
       "    }\n",
       "</style>\n",
       "<table border=\"1\" class=\"dataframe\">\n",
       "  <thead>\n",
       "    <tr style=\"text-align: right;\">\n",
       "      <th></th>\n",
       "      <th>wind_speed_m/s</th>\n",
       "    </tr>\n",
       "    <tr>\n",
       "      <th>local_time</th>\n",
       "      <th></th>\n",
       "    </tr>\n",
       "  </thead>\n",
       "  <tbody>\n",
       "    <tr>\n",
       "      <th>2018-12-31 19:00:00</th>\n",
       "      <td>13.742</td>\n",
       "    </tr>\n",
       "    <tr>\n",
       "      <th>2018-12-31 20:00:00</th>\n",
       "      <td>13.783</td>\n",
       "    </tr>\n",
       "    <tr>\n",
       "      <th>2018-12-31 21:00:00</th>\n",
       "      <td>13.515</td>\n",
       "    </tr>\n",
       "    <tr>\n",
       "      <th>2018-12-31 22:00:00</th>\n",
       "      <td>13.327</td>\n",
       "    </tr>\n",
       "    <tr>\n",
       "      <th>2018-12-31 23:00:00</th>\n",
       "      <td>13.341</td>\n",
       "    </tr>\n",
       "  </tbody>\n",
       "</table>\n",
       "</div>"
      ],
      "text/plain": [
       "                     wind_speed_m/s\n",
       "local_time                         \n",
       "2018-12-31 19:00:00          13.742\n",
       "2018-12-31 20:00:00          13.783\n",
       "2018-12-31 21:00:00          13.515\n",
       "2018-12-31 22:00:00          13.327\n",
       "2018-12-31 23:00:00          13.341"
      ]
     },
     "execution_count": 8,
     "metadata": {},
     "output_type": "execute_result"
    }
   ],
   "source": [
    "# Create a copy of the dataframe\n",
    "wind_speed_copy = wind_speed.copy()\n",
    "\n",
    "# Remove time and electricity columns\n",
    "wind_speed_copy.drop([\"time\", \"electricity\"], axis = 1 ,inplace = True)\n",
    "\n",
    "# Convert local_time to datetime data type\n",
    "wind_speed_copy[\"local_time\"] = pd.to_datetime(wind_speed_copy[\"local_time\"])\n",
    "\n",
    "# Set local_time column as index\n",
    "wind_speed_copy.set_index(\"local_time\", inplace= True)\n",
    "\n",
    "# Rename wind_speed column\n",
    "wind_speed_copy.rename(columns= {'wind_speed': 'wind_speed_m/s'}, inplace= True)\n",
    "\n",
    "# Print first 5 rows\n",
    "wind_speed_copy.head()"
   ]
  },
  {
   "cell_type": "code",
   "execution_count": 9,
   "metadata": {},
   "outputs": [
    {
     "data": {
      "text/html": [
       "<div>\n",
       "<style scoped>\n",
       "    .dataframe tbody tr th:only-of-type {\n",
       "        vertical-align: middle;\n",
       "    }\n",
       "\n",
       "    .dataframe tbody tr th {\n",
       "        vertical-align: top;\n",
       "    }\n",
       "\n",
       "    .dataframe thead th {\n",
       "        text-align: right;\n",
       "    }\n",
       "</style>\n",
       "<table border=\"1\" class=\"dataframe\">\n",
       "  <thead>\n",
       "    <tr style=\"text-align: right;\">\n",
       "      <th></th>\n",
       "      <th>air_density_kg/m3</th>\n",
       "    </tr>\n",
       "    <tr>\n",
       "      <th>local_time</th>\n",
       "      <th></th>\n",
       "    </tr>\n",
       "  </thead>\n",
       "  <tbody>\n",
       "    <tr>\n",
       "      <th>2018-12-31 19:00:00</th>\n",
       "      <td>1.167</td>\n",
       "    </tr>\n",
       "    <tr>\n",
       "      <th>2018-12-31 20:00:00</th>\n",
       "      <td>1.168</td>\n",
       "    </tr>\n",
       "    <tr>\n",
       "      <th>2018-12-31 21:00:00</th>\n",
       "      <td>1.169</td>\n",
       "    </tr>\n",
       "    <tr>\n",
       "      <th>2018-12-31 22:00:00</th>\n",
       "      <td>1.169</td>\n",
       "    </tr>\n",
       "    <tr>\n",
       "      <th>2018-12-31 23:00:00</th>\n",
       "      <td>1.169</td>\n",
       "    </tr>\n",
       "  </tbody>\n",
       "</table>\n",
       "</div>"
      ],
      "text/plain": [
       "                     air_density_kg/m3\n",
       "local_time                            \n",
       "2018-12-31 19:00:00              1.167\n",
       "2018-12-31 20:00:00              1.168\n",
       "2018-12-31 21:00:00              1.169\n",
       "2018-12-31 22:00:00              1.169\n",
       "2018-12-31 23:00:00              1.169"
      ]
     },
     "execution_count": 9,
     "metadata": {},
     "output_type": "execute_result"
    }
   ],
   "source": [
    "\n",
    "# Create a copy of the dataframe\n",
    "air_density_copy = air_density.copy()\n",
    "\n",
    "# Remove time column\n",
    "air_density_copy.drop(\"time\", axis= 1, inplace= True)\n",
    "\n",
    "# Convert local_time column to datetime data type\n",
    "air_density_copy[\"local_time\"] = pd.to_datetime(air_density_copy[\"local_time\"])\n",
    "\n",
    "# Set local_time as index\n",
    "air_density_copy.set_index(\"local_time\", inplace= True)\n",
    "\n",
    "# Rename rhoa column to \"air_density\"\n",
    "air_density_copy.rename(columns = {\"rhoa\": \"air_density_kg/m3\"}, inplace = True)\n",
    "\n",
    "# Print first 5 rows\n",
    "air_density_copy.head()"
   ]
  },
  {
   "cell_type": "code",
   "execution_count": 10,
   "metadata": {},
   "outputs": [
    {
     "name": "stdout",
     "output_type": "stream",
     "text": [
      "<class 'pandas.core.frame.DataFrame'>\n",
      "DatetimeIndex: 8760 entries, 2018-12-31 19:00:00 to 2019-12-31 18:00:00\n",
      "Data columns (total 1 columns):\n",
      " #   Column          Non-Null Count  Dtype  \n",
      "---  ------          --------------  -----  \n",
      " 0   wind_speed_m/s  8760 non-null   float64\n",
      "dtypes: float64(1)\n",
      "memory usage: 136.9 KB\n",
      "None \n",
      "\n",
      "\n",
      "<class 'pandas.core.frame.DataFrame'>\n",
      "DatetimeIndex: 8760 entries, 2018-12-31 19:00:00 to 2019-12-31 18:00:00\n",
      "Data columns (total 1 columns):\n",
      " #   Column             Non-Null Count  Dtype  \n",
      "---  ------             --------------  -----  \n",
      " 0   air_density_kg/m3  8760 non-null   float64\n",
      "dtypes: float64(1)\n",
      "memory usage: 136.9 KB\n",
      "None\n"
     ]
    }
   ],
   "source": [
    "# Inspect both new dataframes\n",
    "print(wind_speed_copy.info(), \"\\n\\n\")\n",
    "print(air_density_copy.info())"
   ]
  },
  {
   "cell_type": "code",
   "execution_count": 19,
   "metadata": {},
   "outputs": [
    {
     "name": "stdout",
     "output_type": "stream",
     "text": [
      "wind_speed_m/s    0\n",
      "dtype: int64 \n",
      "\n",
      "air_density_kg/m3    0\n",
      "dtype: int64\n"
     ]
    }
   ],
   "source": [
    "# Null values in both datasets\n",
    "print((\n",
    "    wind_speed_copy\n",
    "    .isnull()\n",
    "    .sum()\n",
    "), '\\n')\n",
    "\n",
    "print((\n",
    "    air_density_copy\n",
    "    .isnull()\n",
    "    .sum()\n",
    "))"
   ]
  },
  {
   "cell_type": "code",
   "execution_count": 28,
   "metadata": {},
   "outputs": [
    {
     "name": "stdout",
     "output_type": "stream",
     "text": [
      "Wind speed data: (Timestamp('2018-12-31 19:00:00'), Timestamp('2019-12-31 18:00:00')) \n",
      "\n",
      "Air density data: (Timestamp('2018-12-31 19:00:00'), Timestamp('2019-12-31 18:00:00'))\n"
     ]
    }
   ],
   "source": [
    "# Time frame of both dataframes\n",
    "print(\"Wind speed data:\" ,(\n",
    "    np.min(wind_speed_copy.index),\n",
    "    np.max(wind_speed_copy.index)\n",
    "), \"\\n\")\n",
    "\n",
    "print(\"Air density data:\" ,(\n",
    "    np.min(air_density_copy.index),\n",
    "    np.max(air_density_copy.index)\n",
    "))"
   ]
  },
  {
   "cell_type": "code",
   "execution_count": 42,
   "metadata": {},
   "outputs": [
    {
     "name": "stdout",
     "output_type": "stream",
     "text": [
      "\n",
      "        Wind speed data frequency: H \n",
      "\n",
      "        Air density data frequency: H \n",
      "\n",
      "    \n"
     ]
    }
   ],
   "source": [
    "# Check frequency in both dataframes\n",
    "print(\n",
    "    f\"\"\"\n",
    "        Wind speed data frequency: {pd.infer_freq(wind_speed_copy.index)} \\n\n",
    "        Air density data frequency: {pd.infer_freq(air_density_copy.index)} \\n\n",
    "    \"\"\"\n",
    ")\n"
   ]
  },
  {
   "cell_type": "markdown",
   "metadata": {},
   "source": [
    "After making sure both dataframes cover the same time span and have the same frequency, it is safe to join these into a single dataframe."
   ]
  },
  {
   "cell_type": "code",
   "execution_count": 45,
   "metadata": {},
   "outputs": [
    {
     "data": {
      "text/html": [
       "<div>\n",
       "<style scoped>\n",
       "    .dataframe tbody tr th:only-of-type {\n",
       "        vertical-align: middle;\n",
       "    }\n",
       "\n",
       "    .dataframe tbody tr th {\n",
       "        vertical-align: top;\n",
       "    }\n",
       "\n",
       "    .dataframe thead th {\n",
       "        text-align: right;\n",
       "    }\n",
       "</style>\n",
       "<table border=\"1\" class=\"dataframe\">\n",
       "  <thead>\n",
       "    <tr style=\"text-align: right;\">\n",
       "      <th></th>\n",
       "      <th>wind_speed_m/s</th>\n",
       "      <th>air_density_kg/m3</th>\n",
       "    </tr>\n",
       "    <tr>\n",
       "      <th>local_time</th>\n",
       "      <th></th>\n",
       "      <th></th>\n",
       "    </tr>\n",
       "  </thead>\n",
       "  <tbody>\n",
       "    <tr>\n",
       "      <th>2018-12-31 19:00:00</th>\n",
       "      <td>13.742</td>\n",
       "      <td>1.167</td>\n",
       "    </tr>\n",
       "    <tr>\n",
       "      <th>2018-12-31 20:00:00</th>\n",
       "      <td>13.783</td>\n",
       "      <td>1.168</td>\n",
       "    </tr>\n",
       "    <tr>\n",
       "      <th>2018-12-31 21:00:00</th>\n",
       "      <td>13.515</td>\n",
       "      <td>1.169</td>\n",
       "    </tr>\n",
       "    <tr>\n",
       "      <th>2018-12-31 22:00:00</th>\n",
       "      <td>13.327</td>\n",
       "      <td>1.169</td>\n",
       "    </tr>\n",
       "    <tr>\n",
       "      <th>2018-12-31 23:00:00</th>\n",
       "      <td>13.341</td>\n",
       "      <td>1.169</td>\n",
       "    </tr>\n",
       "  </tbody>\n",
       "</table>\n",
       "</div>"
      ],
      "text/plain": [
       "                     wind_speed_m/s  air_density_kg/m3\n",
       "local_time                                            \n",
       "2018-12-31 19:00:00          13.742              1.167\n",
       "2018-12-31 20:00:00          13.783              1.168\n",
       "2018-12-31 21:00:00          13.515              1.169\n",
       "2018-12-31 22:00:00          13.327              1.169\n",
       "2018-12-31 23:00:00          13.341              1.169"
      ]
     },
     "execution_count": 45,
     "metadata": {},
     "output_type": "execute_result"
    }
   ],
   "source": [
    "# Join dataframes\n",
    "wind_df = wind_speed_copy.join(air_density_copy)\n",
    "wind_df.head()"
   ]
  },
  {
   "cell_type": "code",
   "execution_count": 96,
   "metadata": {},
   "outputs": [
    {
     "name": "stdout",
     "output_type": "stream",
     "text": [
      "<class 'pandas.core.frame.DataFrame'>\n",
      "DatetimeIndex: 8760 entries, 2018-12-31 19:00:00 to 2019-12-31 18:00:00\n",
      "Data columns (total 2 columns):\n",
      " #   Column             Non-Null Count  Dtype  \n",
      "---  ------             --------------  -----  \n",
      " 0   wind_speed_m/s     8760 non-null   float64\n",
      " 1   air_density_kg/m3  8760 non-null   float64\n",
      "dtypes: float64(2)\n",
      "memory usage: 205.3 KB\n"
     ]
    }
   ],
   "source": [
    "wind_df.info()"
   ]
  },
  {
   "cell_type": "markdown",
   "metadata": {},
   "source": [
    "Dataset spread measures:"
   ]
  },
  {
   "cell_type": "code",
   "execution_count": 66,
   "metadata": {},
   "outputs": [
    {
     "data": {
      "image/png": "[encoded data removed]",
      "text/plain": [
       "<Figure size 864x576 with 2 Axes>"
      ]
     },
     "metadata": {
      "needs_background": "light"
     },
     "output_type": "display_data"
    }
   ],
   "source": [
    "fix, ax = plt.subplots(1, 2, figsize= (12,8))\n",
    "\n",
    "sns.boxplot(y= wind_df['wind_speed_m/s'], ax= ax[0])\n",
    "ax[0].axhline(y=wind_df[\"wind_speed_m/s\"].mean(),\n",
    "              linewidth=0.8, \n",
    "              color=\"r\", \n",
    "              linestyle=\"dashed\")\n",
    "ax[0].set_ylabel(\"Wind Speed (m/s)\")\n",
    "ax[0].grid(linewidth=0.8)\n",
    "\n",
    "sns.boxplot(y= wind_df['air_density_kg/m3'], ax= ax[1])\n",
    "ax[1].axhline(y= wind_df['air_density_kg/m3'].mean(),\n",
    "              linewidth= 0.8,\n",
    "              color= 'red',\n",
    "              linestyle= 'dashed')\n",
    "ax[1].grid(linewidth= 0.8)\n",
    "\n",
    "plt.tight_layout()\n",
    "plt.show()"
   ]
  },
  {
   "cell_type": "code",
   "execution_count": 123,
   "metadata": {},
   "outputs": [
    {
     "data": {
      "text/html": [
       "<div>\n",
       "<style scoped>\n",
       "    .dataframe tbody tr th:only-of-type {\n",
       "        vertical-align: middle;\n",
       "    }\n",
       "\n",
       "    .dataframe tbody tr th {\n",
       "        vertical-align: top;\n",
       "    }\n",
       "\n",
       "    .dataframe thead th {\n",
       "        text-align: right;\n",
       "    }\n",
       "</style>\n",
       "<table border=\"1\" class=\"dataframe\">\n",
       "  <thead>\n",
       "    <tr style=\"text-align: right;\">\n",
       "      <th></th>\n",
       "      <th>wind_speed_m/s</th>\n",
       "      <th>air_density_kg/m3</th>\n",
       "    </tr>\n",
       "  </thead>\n",
       "  <tbody>\n",
       "    <tr>\n",
       "      <th>count</th>\n",
       "      <td>8,760.00</td>\n",
       "      <td>8,760.00</td>\n",
       "    </tr>\n",
       "    <tr>\n",
       "      <th>mean</th>\n",
       "      <td>10.02</td>\n",
       "      <td>1.16</td>\n",
       "    </tr>\n",
       "    <tr>\n",
       "      <th>std</th>\n",
       "      <td>2.70</td>\n",
       "      <td>0.01</td>\n",
       "    </tr>\n",
       "    <tr>\n",
       "      <th>min</th>\n",
       "      <td>0.20</td>\n",
       "      <td>1.13</td>\n",
       "    </tr>\n",
       "    <tr>\n",
       "      <th>25%</th>\n",
       "      <td>8.25</td>\n",
       "      <td>1.15</td>\n",
       "    </tr>\n",
       "    <tr>\n",
       "      <th>50%</th>\n",
       "      <td>10.36</td>\n",
       "      <td>1.16</td>\n",
       "    </tr>\n",
       "    <tr>\n",
       "      <th>75%</th>\n",
       "      <td>12.05</td>\n",
       "      <td>1.16</td>\n",
       "    </tr>\n",
       "    <tr>\n",
       "      <th>max</th>\n",
       "      <td>16.40</td>\n",
       "      <td>1.18</td>\n",
       "    </tr>\n",
       "  </tbody>\n",
       "</table>\n",
       "</div>"
      ],
      "text/plain": [
       "       wind_speed_m/s  air_density_kg/m3\n",
       "count        8,760.00           8,760.00\n",
       "mean            10.02               1.16\n",
       "std              2.70               0.01\n",
       "min              0.20               1.13\n",
       "25%              8.25               1.15\n",
       "50%             10.36               1.16\n",
       "75%             12.05               1.16\n",
       "max             16.40               1.18"
      ]
     },
     "execution_count": 123,
     "metadata": {},
     "output_type": "execute_result"
    }
   ],
   "source": [
    "pd.options.display.float_format = \"{:,.2f}\".format\n",
    "wind_df.describe()"
   ]
  },
  {
   "cell_type": "code",
   "execution_count": 94,
   "metadata": {},
   "outputs": [
    {
     "name": "stdout",
     "output_type": "stream",
     "text": [
      "\n",
      "Variance: \n",
      "\n",
      "wind_speed_m/s      7.31\n",
      "air_density_kg/m3   0.00\n",
      "dtype: float64\n",
      "\n",
      "Correlation: 0.23607921275863908 \n",
      "\n"
     ]
    }
   ],
   "source": [
    "print(f\"\\nVariance: \\n\\n{wind_df.var()}\\n\")\n",
    "\n",
    "print(f\"Correlation: {wind_df['wind_speed_m/s'].corr(wind_df['air_density_kg/m3'])} \\n\")"
   ]
  },
  {
   "cell_type": "markdown",
   "metadata": {},
   "source": [
    "  \n",
    "Wind speed data is relatively widely spread, with values ranging from $0.20 \\: m/s$ to $16.40 \\: m/s$, including some observations considered outliers, which we will identify shortly. In contrast, the air density data shows a moderate spread, varying within approximately $0.05 \\: kg/m^3$, with an average of $1.15 \\: kg/.m^3$, value that will be used to calculate the power generated by the wind turbines."
   ]
  },
  {
   "cell_type": "code",
   "execution_count": 121,
   "metadata": {},
   "outputs": [
    {
     "data": {
      "text/html": [
       "<div>\n",
       "<style scoped>\n",
       "    .dataframe tbody tr th:only-of-type {\n",
       "        vertical-align: middle;\n",
       "    }\n",
       "\n",
       "    .dataframe tbody tr th {\n",
       "        vertical-align: top;\n",
       "    }\n",
       "\n",
       "    .dataframe thead th {\n",
       "        text-align: right;\n",
       "    }\n",
       "</style>\n",
       "<table border=\"1\" class=\"dataframe\">\n",
       "  <thead>\n",
       "    <tr style=\"text-align: right;\">\n",
       "      <th></th>\n",
       "      <th>wind_speed_m/s</th>\n",
       "    </tr>\n",
       "    <tr>\n",
       "      <th>local_time</th>\n",
       "      <th></th>\n",
       "    </tr>\n",
       "  </thead>\n",
       "  <tbody>\n",
       "    <tr>\n",
       "      <th>2019-09-08 14:00:00</th>\n",
       "      <td>2.07</td>\n",
       "    </tr>\n",
       "    <tr>\n",
       "      <th>2019-09-18 05:00:00</th>\n",
       "      <td>2.03</td>\n",
       "    </tr>\n",
       "    <tr>\n",
       "      <th>2019-09-18 06:00:00</th>\n",
       "      <td>1.57</td>\n",
       "    </tr>\n",
       "    <tr>\n",
       "      <th>2019-09-18 07:00:00</th>\n",
       "      <td>1.23</td>\n",
       "    </tr>\n",
       "    <tr>\n",
       "      <th>2019-09-18 08:00:00</th>\n",
       "      <td>0.81</td>\n",
       "    </tr>\n",
       "    <tr>\n",
       "      <th>...</th>\n",
       "      <td>...</td>\n",
       "    </tr>\n",
       "    <tr>\n",
       "      <th>2019-11-18 11:00:00</th>\n",
       "      <td>2.00</td>\n",
       "    </tr>\n",
       "    <tr>\n",
       "      <th>2019-11-18 12:00:00</th>\n",
       "      <td>2.25</td>\n",
       "    </tr>\n",
       "    <tr>\n",
       "      <th>2019-11-19 09:00:00</th>\n",
       "      <td>2.25</td>\n",
       "    </tr>\n",
       "    <tr>\n",
       "      <th>2019-11-19 10:00:00</th>\n",
       "      <td>2.08</td>\n",
       "    </tr>\n",
       "    <tr>\n",
       "      <th>2019-11-19 11:00:00</th>\n",
       "      <td>2.33</td>\n",
       "    </tr>\n",
       "  </tbody>\n",
       "</table>\n",
       "<p>97 rows × 1 columns</p>\n",
       "</div>"
      ],
      "text/plain": [
       "                     wind_speed_m/s\n",
       "local_time                         \n",
       "2019-09-08 14:00:00            2.07\n",
       "2019-09-18 05:00:00            2.03\n",
       "2019-09-18 06:00:00            1.57\n",
       "2019-09-18 07:00:00            1.23\n",
       "2019-09-18 08:00:00            0.81\n",
       "...                             ...\n",
       "2019-11-18 11:00:00            2.00\n",
       "2019-11-18 12:00:00            2.25\n",
       "2019-11-19 09:00:00            2.25\n",
       "2019-11-19 10:00:00            2.08\n",
       "2019-11-19 11:00:00            2.33\n",
       "\n",
       "[97 rows x 1 columns]"
      ]
     },
     "execution_count": 121,
     "metadata": {},
     "output_type": "execute_result"
    }
   ],
   "source": [
    "# Outliers identification\n",
    "q1 = wind_df.quantile(0.25)\n",
    "q3 = wind_df.quantile(0.75)\n",
    "iqr = q3 - q1\n",
    "lwr = q1 - 1.5 * iqr\n",
    "\n",
    "wind_speed_outliers = wind_df[wind_df['wind_speed_m/s'] < lwr[0]][['wind_speed_m/s']]\n",
    "wind_speed_outliers"
   ]
  },
  {
   "cell_type": "code",
   "execution_count": 126,
   "metadata": {},
   "outputs": [
    {
     "data": {
      "text/html": [
       "<div>\n",
       "<style scoped>\n",
       "    .dataframe tbody tr th:only-of-type {\n",
       "        vertical-align: middle;\n",
       "    }\n",
       "\n",
       "    .dataframe tbody tr th {\n",
       "        vertical-align: top;\n",
       "    }\n",
       "\n",
       "    .dataframe thead th {\n",
       "        text-align: right;\n",
       "    }\n",
       "</style>\n",
       "<table border=\"1\" class=\"dataframe\">\n",
       "  <thead>\n",
       "    <tr style=\"text-align: right;\">\n",
       "      <th></th>\n",
       "      <th>wind_speed_m/s</th>\n",
       "    </tr>\n",
       "  </thead>\n",
       "  <tbody>\n",
       "    <tr>\n",
       "      <th>count</th>\n",
       "      <td>97.00</td>\n",
       "    </tr>\n",
       "    <tr>\n",
       "      <th>mean</th>\n",
       "      <td>1.54</td>\n",
       "    </tr>\n",
       "    <tr>\n",
       "      <th>std</th>\n",
       "      <td>0.64</td>\n",
       "    </tr>\n",
       "    <tr>\n",
       "      <th>min</th>\n",
       "      <td>0.20</td>\n",
       "    </tr>\n",
       "    <tr>\n",
       "      <th>25%</th>\n",
       "      <td>0.98</td>\n",
       "    </tr>\n",
       "    <tr>\n",
       "      <th>50%</th>\n",
       "      <td>1.63</td>\n",
       "    </tr>\n",
       "    <tr>\n",
       "      <th>75%</th>\n",
       "      <td>2.07</td>\n",
       "    </tr>\n",
       "    <tr>\n",
       "      <th>max</th>\n",
       "      <td>2.55</td>\n",
       "    </tr>\n",
       "  </tbody>\n",
       "</table>\n",
       "</div>"
      ],
      "text/plain": [
       "       wind_speed_m/s\n",
       "count           97.00\n",
       "mean             1.54\n",
       "std              0.64\n",
       "min              0.20\n",
       "25%              0.98\n",
       "50%              1.63\n",
       "75%              2.07\n",
       "max              2.55"
      ]
     },
     "execution_count": 126,
     "metadata": {},
     "output_type": "execute_result"
    }
   ],
   "source": [
    "pd.options.display.float_format = \"{:,.2f}\".format\n",
    "wind_speed_outliers.describe()"
   ]
  },
  {
   "cell_type": "code",
   "execution_count": 141,
   "metadata": {},
   "outputs": [
    {
     "data": {
      "text/html": [
       "<div>\n",
       "<style scoped>\n",
       "    .dataframe tbody tr th:only-of-type {\n",
       "        vertical-align: middle;\n",
       "    }\n",
       "\n",
       "    .dataframe tbody tr th {\n",
       "        vertical-align: top;\n",
       "    }\n",
       "\n",
       "    .dataframe thead th {\n",
       "        text-align: right;\n",
       "    }\n",
       "</style>\n",
       "<table border=\"1\" class=\"dataframe\">\n",
       "  <thead>\n",
       "    <tr style=\"text-align: right;\">\n",
       "      <th></th>\n",
       "      <th>wind_speed_m/s</th>\n",
       "    </tr>\n",
       "    <tr>\n",
       "      <th>local_time</th>\n",
       "      <th></th>\n",
       "    </tr>\n",
       "  </thead>\n",
       "  <tbody>\n",
       "    <tr>\n",
       "      <th>2019-09-25 08:00:00</th>\n",
       "      <td>0.20</td>\n",
       "    </tr>\n",
       "  </tbody>\n",
       "</table>\n",
       "</div>"
      ],
      "text/plain": [
       "                     wind_speed_m/s\n",
       "local_time                         \n",
       "2019-09-25 08:00:00            0.20"
      ]
     },
     "execution_count": 141,
     "metadata": {},
     "output_type": "execute_result"
    }
   ],
   "source": [
    "# Find out date and time of the lowest wind speed observation\n",
    "wind_speed_outliers[wind_speed_outliers['wind_speed_m/s'] == np.min(wind_speed_outliers['wind_speed_m/s'])]"
   ]
  },
  {
   "cell_type": "code",
   "execution_count": 163,
   "metadata": {},
   "outputs": [
    {
     "data": {
      "text/html": [
       "<div>\n",
       "<style scoped>\n",
       "    .dataframe tbody tr th:only-of-type {\n",
       "        vertical-align: middle;\n",
       "    }\n",
       "\n",
       "    .dataframe tbody tr th {\n",
       "        vertical-align: top;\n",
       "    }\n",
       "\n",
       "    .dataframe thead th {\n",
       "        text-align: right;\n",
       "    }\n",
       "</style>\n",
       "<table border=\"1\" class=\"dataframe\">\n",
       "  <thead>\n",
       "    <tr style=\"text-align: right;\">\n",
       "      <th></th>\n",
       "      <th>wind_speed_m/s</th>\n",
       "      <th>air_density_kg/m3</th>\n",
       "    </tr>\n",
       "    <tr>\n",
       "      <th>local_time</th>\n",
       "      <th></th>\n",
       "      <th></th>\n",
       "    </tr>\n",
       "  </thead>\n",
       "  <tbody>\n",
       "    <tr>\n",
       "      <th>2019-09-25 00:00:00</th>\n",
       "      <td>4.26</td>\n",
       "      <td>1.15</td>\n",
       "    </tr>\n",
       "    <tr>\n",
       "      <th>2019-09-25 01:00:00</th>\n",
       "      <td>3.94</td>\n",
       "      <td>1.15</td>\n",
       "    </tr>\n",
       "    <tr>\n",
       "      <th>2019-09-25 02:00:00</th>\n",
       "      <td>3.51</td>\n",
       "      <td>1.15</td>\n",
       "    </tr>\n",
       "    <tr>\n",
       "      <th>2019-09-25 03:00:00</th>\n",
       "      <td>3.07</td>\n",
       "      <td>1.15</td>\n",
       "    </tr>\n",
       "    <tr>\n",
       "      <th>2019-09-25 04:00:00</th>\n",
       "      <td>2.67</td>\n",
       "      <td>1.16</td>\n",
       "    </tr>\n",
       "    <tr>\n",
       "      <th>2019-09-25 05:00:00</th>\n",
       "      <td>2.10</td>\n",
       "      <td>1.16</td>\n",
       "    </tr>\n",
       "    <tr>\n",
       "      <th>2019-09-25 06:00:00</th>\n",
       "      <td>1.63</td>\n",
       "      <td>1.16</td>\n",
       "    </tr>\n",
       "    <tr>\n",
       "      <th>2019-09-25 07:00:00</th>\n",
       "      <td>0.90</td>\n",
       "      <td>1.16</td>\n",
       "    </tr>\n",
       "    <tr>\n",
       "      <th>2019-09-25 08:00:00</th>\n",
       "      <td>0.20</td>\n",
       "      <td>1.16</td>\n",
       "    </tr>\n",
       "    <tr>\n",
       "      <th>2019-09-25 09:00:00</th>\n",
       "      <td>0.42</td>\n",
       "      <td>1.16</td>\n",
       "    </tr>\n",
       "    <tr>\n",
       "      <th>2019-09-25 10:00:00</th>\n",
       "      <td>0.74</td>\n",
       "      <td>1.16</td>\n",
       "    </tr>\n",
       "    <tr>\n",
       "      <th>2019-09-25 11:00:00</th>\n",
       "      <td>1.00</td>\n",
       "      <td>1.16</td>\n",
       "    </tr>\n",
       "    <tr>\n",
       "      <th>2019-09-25 12:00:00</th>\n",
       "      <td>1.19</td>\n",
       "      <td>1.16</td>\n",
       "    </tr>\n",
       "    <tr>\n",
       "      <th>2019-09-25 13:00:00</th>\n",
       "      <td>1.51</td>\n",
       "      <td>1.16</td>\n",
       "    </tr>\n",
       "    <tr>\n",
       "      <th>2019-09-25 14:00:00</th>\n",
       "      <td>2.27</td>\n",
       "      <td>1.16</td>\n",
       "    </tr>\n",
       "    <tr>\n",
       "      <th>2019-09-25 15:00:00</th>\n",
       "      <td>2.94</td>\n",
       "      <td>1.16</td>\n",
       "    </tr>\n",
       "    <tr>\n",
       "      <th>2019-09-25 16:00:00</th>\n",
       "      <td>3.12</td>\n",
       "      <td>1.16</td>\n",
       "    </tr>\n",
       "    <tr>\n",
       "      <th>2019-09-25 17:00:00</th>\n",
       "      <td>3.10</td>\n",
       "      <td>1.16</td>\n",
       "    </tr>\n",
       "    <tr>\n",
       "      <th>2019-09-25 18:00:00</th>\n",
       "      <td>3.20</td>\n",
       "      <td>1.16</td>\n",
       "    </tr>\n",
       "    <tr>\n",
       "      <th>2019-09-25 19:00:00</th>\n",
       "      <td>3.12</td>\n",
       "      <td>1.16</td>\n",
       "    </tr>\n",
       "    <tr>\n",
       "      <th>2019-09-25 20:00:00</th>\n",
       "      <td>2.87</td>\n",
       "      <td>1.16</td>\n",
       "    </tr>\n",
       "    <tr>\n",
       "      <th>2019-09-25 21:00:00</th>\n",
       "      <td>2.37</td>\n",
       "      <td>1.16</td>\n",
       "    </tr>\n",
       "    <tr>\n",
       "      <th>2019-09-25 22:00:00</th>\n",
       "      <td>2.01</td>\n",
       "      <td>1.16</td>\n",
       "    </tr>\n",
       "    <tr>\n",
       "      <th>2019-09-25 23:00:00</th>\n",
       "      <td>2.06</td>\n",
       "      <td>1.16</td>\n",
       "    </tr>\n",
       "  </tbody>\n",
       "</table>\n",
       "</div>"
      ],
      "text/plain": [
       "                     wind_speed_m/s  air_density_kg/m3\n",
       "local_time                                            \n",
       "2019-09-25 00:00:00            4.26               1.15\n",
       "2019-09-25 01:00:00            3.94               1.15\n",
       "2019-09-25 02:00:00            3.51               1.15\n",
       "2019-09-25 03:00:00            3.07               1.15\n",
       "2019-09-25 04:00:00            2.67               1.16\n",
       "2019-09-25 05:00:00            2.10               1.16\n",
       "2019-09-25 06:00:00            1.63               1.16\n",
       "2019-09-25 07:00:00            0.90               1.16\n",
       "2019-09-25 08:00:00            0.20               1.16\n",
       "2019-09-25 09:00:00            0.42               1.16\n",
       "2019-09-25 10:00:00            0.74               1.16\n",
       "2019-09-25 11:00:00            1.00               1.16\n",
       "2019-09-25 12:00:00            1.19               1.16\n",
       "2019-09-25 13:00:00            1.51               1.16\n",
       "2019-09-25 14:00:00            2.27               1.16\n",
       "2019-09-25 15:00:00            2.94               1.16\n",
       "2019-09-25 16:00:00            3.12               1.16\n",
       "2019-09-25 17:00:00            3.10               1.16\n",
       "2019-09-25 18:00:00            3.20               1.16\n",
       "2019-09-25 19:00:00            3.12               1.16\n",
       "2019-09-25 20:00:00            2.87               1.16\n",
       "2019-09-25 21:00:00            2.37               1.16\n",
       "2019-09-25 22:00:00            2.01               1.16\n",
       "2019-09-25 23:00:00            2.06               1.16"
      ]
     },
     "execution_count": 163,
     "metadata": {},
     "output_type": "execute_result"
    }
   ],
   "source": [
    "wind_df.loc['2019-09-25']"
   ]
  },
  {
   "cell_type": "code",
   "execution_count": 184,
   "metadata": {},
   "outputs": [
    {
     "data": {
      "image/png": "[encoded data removed]",
      "text/plain": [
       "<Figure size 864x288 with 2 Axes>"
      ]
     },
     "metadata": {
      "needs_background": "light"
     },
     "output_type": "display_data"
    }
   ],
   "source": [
    "# PLot wind speed in the day of \n",
    "\n",
    "fig, ax1 = plt.subplots(figsize= (12,4))\n",
    "line1=sns.lineplot(data= wind_df.loc['2019-09-25'],\n",
    "             x = wind_df.loc['2019-09-25'].index,\n",
    "             y = 'wind_speed_m/s', \n",
    "             color= 'blue', ax= ax1,\n",
    "             label= 'Wind speed')\n",
    "plt.title(\"Wind Speed on September 25, 2019\")\n",
    "plt.xlabel(\"Date\")\n",
    "plt.ylabel(\"Wind Speed (m/s)\")\n",
    "ax1.tick_params(axis='y', labelcolor='blue')\n",
    "\n",
    "ax2 = ax1.twinx()\n",
    "line2=sns.lineplot(data= wind_df.loc['2019-09-25'],\n",
    "             x = wind_df.loc['2019-09-25'].index,\n",
    "             y = 'air_density_kg/m3', \n",
    "             color= 'green', ax= ax2,\n",
    "             label= 'Air density')\n",
    "ax2.tick_params(axis='y', labelcolor='green')\n",
    "\n",
    "lines = line1.get_lines() + line2.get_lines()\n",
    "labels = [l.get_label() for l in lines]\n",
    "ax1.legend(lines, labels, loc='lower right')  # you can change loc to 'upper right' or 'lower center'\n",
    "\n",
    "plt.tight_layout()\n",
    "plt.show()"
   ]
  },
  {
   "cell_type": "markdown",
   "metadata": {},
   "source": [
    "Examining these outliers, they are not likely to be severe anomalies given the nature of the data. Wind speed is a highly variable phenomenon, with readings that can change rapidly, reflecting natural fluctuations rather than errors. The lowest values, around 0.2 m/s, could correspond to very calm wind conditions. Conveniently, the air density readings at the same times show a behaviour that correlates to some extent. With this low wind speed and high air density happening in the morning, it can be inferred that conditions might have been dominated by a cold, stable, high-pressure air mass, resulting in high air density and very little wind movement.  \n",
    "\n",
    "Now, considering these aparent outliers now considered as correct measurements under specific weather conditions, we can move on to the analysis of power generation from wind."
   ]
  },
  {
   "cell_type": "markdown",
   "metadata": {},
   "source": [
    "The power generated by wind turbines can be calculated with the formula:  \n",
    "\n",
    "$$ \n",
    "P = \\frac{1}{2} \\times Air \\: Density \\times Rotor Swept Area \\times Wind \\: Speed^3 \\times Efficiency\n",
    "$$"
   ]
  },
  {
   "cell_type": "markdown",
   "metadata": {},
   "source": [
    "Given an efficiency coefficient $ec = 0.4$, a rotor swept diameter $ \\varnothing = 60m$, and the mean values from the `wind_df` we can calculate the electric power generated per wind turbine. \n",
    "To begin with, let's work out the rotor swept area from the known diameter value."
   ]
  },
  {
   "cell_type": "code",
   "execution_count": 67,
   "metadata": {},
   "outputs": [
    {
     "name": "stdout",
     "output_type": "stream",
     "text": [
      "Rotor Swept Area = 2827.4333882308138 squared meters\n"
     ]
    }
   ],
   "source": [
    "d = 60 # rotor swept diameter value\n",
    "\n",
    "rs_area = np.pi * (d/2)**2\n",
    "\n",
    "print(f\"Rotor Swept Area = {rs_area} squared meters\")"
   ]
  },
  {
   "cell_type": "markdown",
   "metadata": {},
   "source": [
    "..."
   ]
  },
  {
   "cell_type": "code",
   "execution_count": 125,
   "metadata": {},
   "outputs": [
    {
     "name": "stdout",
     "output_type": "stream",
     "text": [
      "10.3605\n"
     ]
    }
   ],
   "source": [
    "air_density_mean = wind_df[\"air_density\"].mean()\n",
    "wind_speed_p50 = wind_df[\"wind_speed\"].median()\n",
    "ec = 0.4  # Efficiency coefficient\n",
    "\n",
    "def power_gen(air_den, area, wind_s, eff_coef):\n",
    "    \"\"\"Work out wind turbines power generation capacity in MW\"\"\"\n",
    "    return round((0.5* air_den * area * wind_s**3 * eff_coef) / 1e6, 3)"
   ]
  },
  {
   "cell_type": "code",
   "execution_count": 126,
   "metadata": {},
   "outputs": [
    {
     "name": "stdout",
     "output_type": "stream",
     "text": [
      "Estimated mean power generation capacity: 0.727 MW\n"
     ]
    }
   ],
   "source": [
    "mean_power_gen = power_gen(air_density_mean, rs_area, wind_speed_p50, ec)\n",
    "\n",
    "print(f\"Estimated mean power generation capacity: {mean_power_gen} MW\")"
   ]
  },
  {
   "cell_type": "code",
   "execution_count": 127,
   "metadata": {},
   "outputs": [
    {
     "name": "stdout",
     "output_type": "stream",
     "text": [
      "25th percentile estimated power generation capacity: 0.368 MW\n",
      "75th percentile estimated mean power generation capacity: 1.145 MW\n"
     ]
    }
   ],
   "source": [
    "# Repeating the process with the 25th and 75th percentiles of wind speed.\n",
    "wind_speed_p25 = np.quantile(wind_df[\"wind_speed\"], 0.25)\n",
    "wind_speed_p75 = np.quantile(wind_df[\"wind_speed\"], 0.75)\n",
    "\n",
    "power_gen_p25 = power_gen(air_density_mean, rs_area, wind_speed_p25, ec)\n",
    "power_gen_p75 = power_gen(air_density_mean, rs_area, wind_speed_p75, ec)\n",
    "\n",
    "print(f\"25th percentile estimated power generation capacity: {power_gen_p25} MW\")\n",
    "print(f\"75th percentile estimated mean power generation capacity: {power_gen_p75} MW\")"
   ]
  },
  {
   "cell_type": "markdown",
   "metadata": {},
   "source": [
    "..."
   ]
  },
  {
   "cell_type": "code",
   "execution_count": 131,
   "metadata": {},
   "outputs": [
    {
     "data": {
      "text/html": [
       "<div>\n",
       "<style scoped>\n",
       "    .dataframe tbody tr th:only-of-type {\n",
       "        vertical-align: middle;\n",
       "    }\n",
       "\n",
       "    .dataframe tbody tr th {\n",
       "        vertical-align: top;\n",
       "    }\n",
       "\n",
       "    .dataframe thead th {\n",
       "        text-align: right;\n",
       "    }\n",
       "</style>\n",
       "<table border=\"1\" class=\"dataframe\">\n",
       "  <thead>\n",
       "    <tr style=\"text-align: right;\">\n",
       "      <th></th>\n",
       "      <th>wind_speed</th>\n",
       "      <th>air_density</th>\n",
       "      <th>power_gen</th>\n",
       "    </tr>\n",
       "    <tr>\n",
       "      <th>local_time</th>\n",
       "      <th></th>\n",
       "      <th></th>\n",
       "      <th></th>\n",
       "    </tr>\n",
       "  </thead>\n",
       "  <tbody>\n",
       "    <tr>\n",
       "      <th>2018-12-31 19:00:00</th>\n",
       "      <td>13.742</td>\n",
       "      <td>1.167</td>\n",
       "      <td>1.713</td>\n",
       "    </tr>\n",
       "    <tr>\n",
       "      <th>2018-12-31 20:00:00</th>\n",
       "      <td>13.783</td>\n",
       "      <td>1.168</td>\n",
       "      <td>1.729</td>\n",
       "    </tr>\n",
       "    <tr>\n",
       "      <th>2018-12-31 21:00:00</th>\n",
       "      <td>13.515</td>\n",
       "      <td>1.169</td>\n",
       "      <td>1.632</td>\n",
       "    </tr>\n",
       "    <tr>\n",
       "      <th>2018-12-31 22:00:00</th>\n",
       "      <td>13.327</td>\n",
       "      <td>1.169</td>\n",
       "      <td>1.565</td>\n",
       "    </tr>\n",
       "    <tr>\n",
       "      <th>2018-12-31 23:00:00</th>\n",
       "      <td>13.341</td>\n",
       "      <td>1.169</td>\n",
       "      <td>1.570</td>\n",
       "    </tr>\n",
       "  </tbody>\n",
       "</table>\n",
       "</div>"
      ],
      "text/plain": [
       "                     wind_speed  air_density  power_gen\n",
       "local_time                                             \n",
       "2018-12-31 19:00:00      13.742        1.167      1.713\n",
       "2018-12-31 20:00:00      13.783        1.168      1.729\n",
       "2018-12-31 21:00:00      13.515        1.169      1.632\n",
       "2018-12-31 22:00:00      13.327        1.169      1.565\n",
       "2018-12-31 23:00:00      13.341        1.169      1.570"
      ]
     },
     "execution_count": 131,
     "metadata": {},
     "output_type": "execute_result"
    }
   ],
   "source": [
    "wind_df_copy = wind_df.copy()\n",
    "\n",
    "wind_df_copy[\"power_gen\"] = round((0.5 * wind_df_copy[\"air_density\"] * rs_area * wind_df_copy[\"wind_speed\"]**3 * ec) / 1000000, 3)\n",
    "\n",
    "wind_df_copy.head()"
   ]
  },
  {
   "cell_type": "code",
   "execution_count": 136,
   "metadata": {},
   "outputs": [
    {
     "data": {
      "image/png": "[encoded data removed]",
      "text/plain": [
       "<Figure size 576x576 with 1 Axes>"
      ]
     },
     "metadata": {
      "needs_background": "light"
     },
     "output_type": "display_data"
    },
    {
     "name": "stdout",
     "output_type": "stream",
     "text": [
      "count    8760.000000\n",
      "mean        0.794108\n",
      "std         0.514372\n",
      "min         0.000000\n",
      "25%         0.368000\n",
      "50%         0.729000\n",
      "75%         1.144000\n",
      "max         2.907000\n",
      "Name: power_gen, dtype: float64\n"
     ]
    }
   ],
   "source": [
    "fig, ax = plt.subplots(figsize = (8,8))\n",
    "ax.boxplot(wind_df_copy[\"power_gen\"])\n",
    "ax.set_ylabel(\"Electric Power [MW]\")\n",
    "ax.grid(linewidth=0.5)\n",
    "plt.show()\n",
    "\n",
    "print(wind_df_copy[\"power_gen\"].describe())"
   ]
  },
  {
   "cell_type": "code",
   "execution_count": 141,
   "metadata": {},
   "outputs": [
    {
     "data": {
      "image/png": "[encoded data removed]",
      "text/plain": [
       "<Figure size 864x720 with 3 Axes>"
      ]
     },
     "metadata": {
      "needs_background": "light"
     },
     "output_type": "display_data"
    }
   ],
   "source": [
    "fig, ax = plt.subplots(3,1,figsize = (12,10))\n",
    "ax[0].plot(wind_df_copy.index, wind_df_copy[\"air_density\"])\n",
    "ax[1].plot(wind_df_copy.index, wind_df_copy[\"wind_speed\"])\n",
    "ax[2].plot(wind_df_copy.index, wind_df_copy[\"power_gen\"])\n",
    "plt.show()"
   ]
  }
 ],
 "metadata": {
  "kernelspec": {
   "display_name": "DataScience",
   "language": "python",
   "name": "python3"
  },
  "language_info": {
   "codemirror_mode": {
    "name": "ipython",
    "version": 3
   },
   "file_extension": ".py",
   "mimetype": "text/x-python",
   "name": "python",
   "nbconvert_exporter": "python",
   "pygments_lexer": "ipython3",
   "version": "3.8.11"
  }
 },
 "nbformat": 4,
 "nbformat_minor": 2
}
